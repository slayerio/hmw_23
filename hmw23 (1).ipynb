{
 "cells": [
  {
   "cell_type": "markdown",
   "id": "eb1c1a0e-d238-426c-a1ed-a6f5d667d47b",
   "metadata": {},
   "source": [
    "<h1 style=\"color: green; \">שיעורי בית 23</h1>"
   ]
  },
  {
   "cell_type": "code",
   "execution_count": 51,
   "id": "d84bc18b-501d-44c0-ab19-181468858145",
   "metadata": {},
   "outputs": [],
   "source": [
    "import numpy as np"
   ]
  },
  {
   "cell_type": "code",
   "execution_count": 52,
   "id": "23c59aaf-217e-44a1-b511-cd6a70edf1d0",
   "metadata": {},
   "outputs": [
    {
     "name": "stdout",
     "output_type": "stream",
     "text": [
      "[ 1  2  3  4  5  6  7  8  9 10]\n",
      "[0.5  0.75 1.   1.25 1.5  1.75 2.   2.25 2.5  2.75 3.   3.25 3.5  3.75\n",
      " 4.   4.25 4.5  4.75 5.   5.25]\n"
     ]
    }
   ],
   "source": [
    "rng1 = np.arange(1, 11)\n",
    "rng2 = np.arange(0.5, 5.5, 0.25)\n",
    "print(rng1)\n",
    "print(rng2)"
   ]
  },
  {
   "cell_type": "code",
   "execution_count": 53,
   "id": "fd5134c5-a362-439e-b00b-dadaedacaf82",
   "metadata": {},
   "outputs": [
    {
     "name": "stdout",
     "output_type": "stream",
     "text": [
      "[0. 0. 0. 0. 0. 0. 0. 0. 0. 0.]\n",
      "[[0. 0. 0. 0.]\n",
      " [0. 0. 0. 0.]\n",
      " [0. 0. 0. 0.]]\n"
     ]
    }
   ],
   "source": [
    "np_zero = np.zeros(10)\n",
    "np_zero_2 = np.zeros((3, 4))\n",
    "print(np_zero)\n",
    "print(np_zero_2)\n"
   ]
  },
  {
   "cell_type": "code",
   "execution_count": 54,
   "id": "fe2413d3-00f2-4a89-8181-5b365f6d4ef4",
   "metadata": {},
   "outputs": [
    {
     "name": "stdout",
     "output_type": "stream",
     "text": [
      "[ 2.   4.5  7.   9.5 12. ]\n",
      "[3. 5. 7. 9.]\n"
     ]
    }
   ],
   "source": [
    "np_linspace = np.linspace(2, 12, 5)\n",
    "np_linspace_2 = np.linspace(3, 9, 4)\n",
    "print(np_linspace)\n",
    "print(np_linspace_2)"
   ]
  },
  {
   "cell_type": "code",
   "execution_count": 55,
   "id": "4dcc16fe-d9da-43cd-97ae-8173ccc3409f",
   "metadata": {},
   "outputs": [
    {
     "name": "stdout",
     "output_type": "stream",
     "text": [
      "[[0.80074457 0.96826158 0.31342418 0.69232262]\n",
      " [0.87638915 0.89460666 0.08504421 0.03905478]]\n",
      "[[20 19 18]\n",
      " [17 13 16]\n",
      " [15 11 19]]\n",
      "[[0.80074457 0.96826158 0.31342418 0.69232262 0.87638915 0.89460666\n",
      "  0.08504421 0.03905478]]\n"
     ]
    }
   ],
   "source": [
    "np_rand = np.random.rand(2, 4)\n",
    "print(np_rand)\n",
    "np_random = np.random.randint(10, 21, (3, 3))\n",
    "print(np_random)\n",
    "np_rand_reshape = np_rand.reshape(1, 8)\n",
    "print(np_rand_reshape)"
   ]
  },
  {
   "cell_type": "markdown",
   "id": "ac92140e-1441-46b5-a0a9-d4ba35547a10",
   "metadata": {},
   "source": [
    "### כדי שנוכל להשתמש בפלט של אותם מספרים רנדומליים בקוד שלנו, ושלא יצאו לנו מספרים רנדומליים שונים כשמריצים מחדש את הפונקציה random.rand/it, נשתמש בפונקציה random.seed"
   ]
  },
  {
   "cell_type": "code",
   "execution_count": 57,
   "id": "3be77e41-be62-4e97-ba70-436aca21ddc2",
   "metadata": {},
   "outputs": [
    {
     "name": "stdout",
     "output_type": "stream",
     "text": [
      "[[0.09310829 0.97165592 0.48385998 0.2425227 ]\n",
      " [0.53112383 0.28554424 0.86263038 0.04110015]\n",
      " [0.10834773 0.76716005 0.05142871 0.77571654]\n",
      " [0.00913894 0.61831211 0.81870933 0.89858572]\n",
      " [0.98561158 0.49674492 0.35231893 0.86708499]]\n"
     ]
    }
   ],
   "source": [
    "### seed example: \n",
    "np.random.seed(55)\n",
    "print(np.random.rand(5, 4))\n"
   ]
  },
  {
   "cell_type": "code",
   "execution_count": 58,
   "id": "bb14d22e-f2c6-4f2b-8ae6-9f5b04fda1cb",
   "metadata": {},
   "outputs": [
    {
     "name": "stdin",
     "output_type": "stream",
     "text": [
      "enter number 1\n",
      "enter number 2\n",
      "enter number 3\n",
      "enter number 4\n",
      "enter number 5\n"
     ]
    },
    {
     "name": "stdout",
     "output_type": "stream",
     "text": [
      "[1. 2. 3. 4. 5.]\n",
      "max number5.0\n",
      "min number1.0\n",
      "array shape(5,)\n",
      "max number index4\n",
      "min number index0\n"
     ]
    }
   ],
   "source": [
    "number_list = []\n",
    "for _ in range(5):\n",
    "    number = float(input(\"enter number\"))\n",
    "    number_list.append(number)\n",
    "\n",
    "numbers_array = np.array(number_list)\n",
    "print(numbers_array)\n",
    "print(f'max number{np.max(numbers_array)}')\n",
    "print(f'min number{np.min(numbers_array)}')\n",
    "print(f'array shape{np.shape(numbers_array)}')\n",
    "print(f'max number index{np.argmax(numbers_array)}')\n",
    "print(f'min number index{np.argmin(numbers_array)}')\n"
   ]
  }
 ],
 "metadata": {
  "kernelspec": {
   "display_name": "Python 3 (ipykernel)",
   "language": "python",
   "name": "python3"
  },
  "language_info": {
   "codemirror_mode": {
    "name": "ipython",
    "version": 3
   },
   "file_extension": ".py",
   "mimetype": "text/x-python",
   "name": "python",
   "nbconvert_exporter": "python",
   "pygments_lexer": "ipython3",
   "version": "3.12.7"
  }
 },
 "nbformat": 4,
 "nbformat_minor": 5
}
